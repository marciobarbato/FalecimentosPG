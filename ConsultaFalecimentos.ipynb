{
 "cells": [
  {
   "cell_type": "code",
   "execution_count": null,
   "metadata": {},
   "outputs": [],
   "source": [
    "from bs4 import BeautifulSoup\n",
    "import requests\n",
    "import pandas as pd\n",
    "import datetime\n",
    "from datetime import date\n",
    "from datetime import timedelta\n",
    "import numpy as np\n",
    "import matplotlib.pyplot as plt\n",
    "\n",
    "from consultaFalecimentosPG import consultaFalecimentos, extract_data, calculate_moving_average\n",
    "\n",
    "years_to_compare = [2019,2020]\n",
    "starting_day_month = [1,3]\n",
    "ending_day_month = [7,3]\n",
    "moving_size = 3\n",
    "\n",
    "resulting_data = calculate_moving_average(\n",
    "                    years_to_compare,\n",
    "                    extract_data(\n",
    "                        years_to_compare, \n",
    "                        starting_day_month[0], \n",
    "                        starting_day_month[1], \n",
    "                        ending_day_month[0], \n",
    "                        ending_day_month[1]\n",
    "                    ),\n",
    "                    moving_size\n",
    "                )\n",
    "\n",
    "for year in years_to_compare:\n",
    "    plt.plot(resulting_data[year]['x'], resulting_data[year]['y'])\n",
    "    \n",
    "for year in years_to_compare:\n",
    "    plt.plot(resulting_data[str(year)+\"-ma\"]['x'], resulting_data[str(year)+\"-ma\"]['y'])\n",
    "\n",
    "        \n",
    "legend = list(years_to_compare)\n",
    "for year in years_to_compare:\n",
    "    legend.append(\"MA:\"+str(year))\n",
    "    \n",
    "plt.legend(legend)\n",
    "plt.xticks(rotation=90)\n",
    "plt.show()"
   ]
  }
 ],
 "metadata": {
  "kernelspec": {
   "display_name": "Python 3",
   "language": "python",
   "name": "python3"
  },
  "language_info": {
   "codemirror_mode": {
    "name": "ipython",
    "version": 3
   },
   "file_extension": ".py",
   "mimetype": "text/x-python",
   "name": "python",
   "nbconvert_exporter": "python",
   "pygments_lexer": "ipython3",
   "version": "3.7.6"
  }
 },
 "nbformat": 4,
 "nbformat_minor": 2
}
